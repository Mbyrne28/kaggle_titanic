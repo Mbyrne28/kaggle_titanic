{
 "cells": [
  {
   "cell_type": "markdown",
   "metadata": {},
   "source": [
    "# Kaggle - Titanic Survival\n",
    "\n",
    "https://www.kaggle.com/c/titanic"
   ]
  },
  {
   "cell_type": "code",
   "execution_count": 1,
   "metadata": {
    "collapsed": true
   },
   "outputs": [],
   "source": [
    "import numpy as np\n",
    "import pandas as pd\n",
    "import matplotlib.pyplot as plt"
   ]
  },
  {
   "cell_type": "code",
   "execution_count": 2,
   "metadata": {
    "collapsed": true
   },
   "outputs": [],
   "source": [
    "%matplotlib inline"
   ]
  },
  {
   "cell_type": "code",
   "execution_count": 3,
   "metadata": {
    "collapsed": true
   },
   "outputs": [],
   "source": [
    "my_data = pd.read_csv('train.csv', delimiter=',')"
   ]
  },
  {
   "cell_type": "markdown",
   "metadata": {},
   "source": [
    "## Quick look at the averages"
   ]
  },
  {
   "cell_type": "code",
   "execution_count": 4,
   "metadata": {},
   "outputs": [
    {
     "data": {
      "text/plain": [
       "0.3838383838383838"
      ]
     },
     "execution_count": 4,
     "metadata": {},
     "output_type": "execute_result"
    }
   ],
   "source": [
    "my_data[\"Survived\"].mean()"
   ]
  },
  {
   "cell_type": "code",
   "execution_count": 5,
   "metadata": {},
   "outputs": [
    {
     "data": {
      "text/plain": [
       "29.69911764705882"
      ]
     },
     "execution_count": 5,
     "metadata": {},
     "output_type": "execute_result"
    }
   ],
   "source": [
    "my_data[\"Age\"].mean()"
   ]
  },
  {
   "cell_type": "code",
   "execution_count": 6,
   "metadata": {},
   "outputs": [
    {
     "data": {
      "text/plain": [
       "28.0"
      ]
     },
     "execution_count": 6,
     "metadata": {},
     "output_type": "execute_result"
    }
   ],
   "source": [
    "my_data[\"Age\"].median()"
   ]
  },
  {
   "cell_type": "code",
   "execution_count": 7,
   "metadata": {},
   "outputs": [
    {
     "data": {
      "text/plain": [
       "<matplotlib.axes._subplots.AxesSubplot at 0x108253860>"
      ]
     },
     "execution_count": 7,
     "metadata": {},
     "output_type": "execute_result"
    },
    {
     "data": {
      "image/png": "[encoded data removed]",
      "text/plain": [
       "<matplotlib.figure.Figure at 0x108253048>"
      ]
     },
     "metadata": {},
     "output_type": "display_data"
    }
   ],
   "source": [
    "my_data[\"Age\"].hist()"
   ]
  },
  {
   "cell_type": "code",
   "execution_count": 111,
   "metadata": {},
   "outputs": [
    {
     "data": {
      "text/plain": [
       "37.0"
      ]
     },
     "execution_count": 111,
     "metadata": {},
     "output_type": "execute_result"
    }
   ],
   "source": [
    "my_data[my_data.Sex==\"male\"][\"Age\"].median()"
   ]
  },
  {
   "cell_type": "code",
   "execution_count": 112,
   "metadata": {},
   "outputs": [
    {
     "data": {
      "text/plain": [
       "32.25"
      ]
     },
     "execution_count": 112,
     "metadata": {},
     "output_type": "execute_result"
    }
   ],
   "source": [
    "my_data[my_data.Sex==\"female\"][\"Age\"].median()"
   ]
  },
  {
   "cell_type": "code",
   "execution_count": 2,
   "metadata": {},
   "outputs": [
    {
     "name": "stdout",
     "output_type": "stream",
     "text": [
      "8\n"
     ]
    }
   ],
   "source": [
    "print(4+4)"
   ]
  },
  {
   "cell_type": "code",
   "execution_count": 113,
   "metadata": {},
   "outputs": [
    {
     "data": {
      "text/plain": [
       "<matplotlib.axes._subplots.AxesSubplot at 0x1a4f170668>"
      ]
     },
     "execution_count": 113,
     "metadata": {},
     "output_type": "execute_result"
    },
    {
     "data": {
      "image/png": "[encoded data removed]",
      "text/plain": [
       "<matplotlib.figure.Figure at 0x1a4f170d68>"
      ]
     },
     "metadata": {},
     "output_type": "display_data"
    }
   ],
   "source": [
    "my_data[\"Pclass\"].hist()"
   ]
  },
  {
   "cell_type": "code",
   "execution_count": 90,
   "metadata": {},
   "outputs": [
    {
     "data": {
      "text/html": [
       "<div>\n",
       "<style>\n",
       "    .dataframe thead tr:only-child th {\n",
       "        text-align: right;\n",
       "    }\n",
       "\n",
       "    .dataframe thead th {\n",
       "        text-align: left;\n",
       "    }\n",
       "\n",
       "    .dataframe tbody tr th {\n",
       "        vertical-align: top;\n",
       "    }\n",
       "</style>\n",
       "<table border=\"1\" class=\"dataframe\">\n",
       "  <thead>\n",
       "    <tr style=\"text-align: right;\">\n",
       "      <th></th>\n",
       "      <th></th>\n",
       "      <th>PassengerId</th>\n",
       "      <th>Survived</th>\n",
       "      <th>Pclass</th>\n",
       "      <th>SibSp</th>\n",
       "      <th>Parch</th>\n",
       "      <th>Fare</th>\n",
       "    </tr>\n",
       "    <tr>\n",
       "      <th>Sex</th>\n",
       "      <th>Age</th>\n",
       "      <th></th>\n",
       "      <th></th>\n",
       "      <th></th>\n",
       "      <th></th>\n",
       "      <th></th>\n",
       "      <th></th>\n",
       "    </tr>\n",
       "  </thead>\n",
       "  <tbody>\n",
       "    <tr>\n",
       "      <th rowspan=\"5\" valign=\"top\">female</th>\n",
       "      <th>2.0</th>\n",
       "      <td>252.0</td>\n",
       "      <td>0.0</td>\n",
       "      <td>2.0</td>\n",
       "      <td>0.5</td>\n",
       "      <td>1.500000</td>\n",
       "      <td>81.006250</td>\n",
       "    </tr>\n",
       "    <tr>\n",
       "      <th>4.0</th>\n",
       "      <td>315.0</td>\n",
       "      <td>1.0</td>\n",
       "      <td>2.5</td>\n",
       "      <td>1.5</td>\n",
       "      <td>1.000000</td>\n",
       "      <td>27.850000</td>\n",
       "    </tr>\n",
       "    <tr>\n",
       "      <th>14.0</th>\n",
       "      <td>436.0</td>\n",
       "      <td>1.0</td>\n",
       "      <td>1.0</td>\n",
       "      <td>1.0</td>\n",
       "      <td>2.000000</td>\n",
       "      <td>120.000000</td>\n",
       "    </tr>\n",
       "    <tr>\n",
       "      <th>15.0</th>\n",
       "      <td>690.0</td>\n",
       "      <td>1.0</td>\n",
       "      <td>1.0</td>\n",
       "      <td>0.0</td>\n",
       "      <td>1.000000</td>\n",
       "      <td>211.337500</td>\n",
       "    </tr>\n",
       "    <tr>\n",
       "      <th>16.0</th>\n",
       "      <td>563.0</td>\n",
       "      <td>1.0</td>\n",
       "      <td>1.0</td>\n",
       "      <td>0.0</td>\n",
       "      <td>0.666667</td>\n",
       "      <td>61.293067</td>\n",
       "    </tr>\n",
       "  </tbody>\n",
       "</table>\n",
       "</div>"
      ],
      "text/plain": [
       "             PassengerId  Survived  Pclass  SibSp     Parch        Fare\n",
       "Sex    Age                                                             \n",
       "female 2.0         252.0       0.0     2.0    0.5  1.500000   81.006250\n",
       "       4.0         315.0       1.0     2.5    1.5  1.000000   27.850000\n",
       "       14.0        436.0       1.0     1.0    1.0  2.000000  120.000000\n",
       "       15.0        690.0       1.0     1.0    0.0  1.000000  211.337500\n",
       "       16.0        563.0       1.0     1.0    0.0  0.666667   61.293067"
      ]
     },
     "execution_count": 90,
     "metadata": {},
     "output_type": "execute_result"
    }
   ],
   "source": [
    "age_sex_grouping = my_data.groupby(['Sex',\"Age\"]).mean()\n",
    "age_sex_grouping.head()"
   ]
  },
  {
   "cell_type": "markdown",
   "metadata": {},
   "source": [
    "## Survival rate by class & gender"
   ]
  },
  {
   "cell_type": "code",
   "execution_count": 8,
   "metadata": {
    "collapsed": true
   },
   "outputs": [],
   "source": [
    "class_sex_grouping = my_data.groupby(['Pclass','Sex']).mean()"
   ]
  },
  {
   "cell_type": "markdown",
   "metadata": {},
   "source": [
    "## Build classifier"
   ]
  },
  {
   "cell_type": "code",
   "execution_count": 9,
   "metadata": {
    "collapsed": true
   },
   "outputs": [],
   "source": [
    "from sklearn import tree"
   ]
  },
  {
   "cell_type": "code",
   "execution_count": 10,
   "metadata": {
    "collapsed": true
   },
   "outputs": [],
   "source": [
    "my_data = my_data.dropna()"
   ]
  },
  {
   "cell_type": "code",
   "execution_count": 11,
   "metadata": {
    "collapsed": true
   },
   "outputs": [],
   "source": [
    "my_data_labels  = my_data['Survived']"
   ]
  },
  {
   "cell_type": "code",
   "execution_count": 17,
   "metadata": {},
   "outputs": [
    {
     "data": {
      "text/html": [
       "<div>\n",
       "<style>\n",
       "    .dataframe thead tr:only-child th {\n",
       "        text-align: right;\n",
       "    }\n",
       "\n",
       "    .dataframe thead th {\n",
       "        text-align: left;\n",
       "    }\n",
       "\n",
       "    .dataframe tbody tr th {\n",
       "        vertical-align: top;\n",
       "    }\n",
       "</style>\n",
       "<table border=\"1\" class=\"dataframe\">\n",
       "  <thead>\n",
       "    <tr style=\"text-align: right;\">\n",
       "      <th></th>\n",
       "      <th>Pclass</th>\n",
       "      <th>Age</th>\n",
       "      <th>Sex</th>\n",
       "      <th>Fare</th>\n",
       "    </tr>\n",
       "  </thead>\n",
       "  <tbody>\n",
       "    <tr>\n",
       "      <th>1</th>\n",
       "      <td>1</td>\n",
       "      <td>38.0</td>\n",
       "      <td>female</td>\n",
       "      <td>71.2833</td>\n",
       "    </tr>\n",
       "    <tr>\n",
       "      <th>3</th>\n",
       "      <td>1</td>\n",
       "      <td>35.0</td>\n",
       "      <td>female</td>\n",
       "      <td>53.1000</td>\n",
       "    </tr>\n",
       "    <tr>\n",
       "      <th>6</th>\n",
       "      <td>1</td>\n",
       "      <td>54.0</td>\n",
       "      <td>male</td>\n",
       "      <td>51.8625</td>\n",
       "    </tr>\n",
       "    <tr>\n",
       "      <th>10</th>\n",
       "      <td>3</td>\n",
       "      <td>4.0</td>\n",
       "      <td>female</td>\n",
       "      <td>16.7000</td>\n",
       "    </tr>\n",
       "    <tr>\n",
       "      <th>11</th>\n",
       "      <td>1</td>\n",
       "      <td>58.0</td>\n",
       "      <td>female</td>\n",
       "      <td>26.5500</td>\n",
       "    </tr>\n",
       "  </tbody>\n",
       "</table>\n",
       "</div>"
      ],
      "text/plain": [
       "    Pclass   Age     Sex     Fare\n",
       "1        1  38.0  female  71.2833\n",
       "3        1  35.0  female  53.1000\n",
       "6        1  54.0    male  51.8625\n",
       "10       3   4.0  female  16.7000\n",
       "11       1  58.0  female  26.5500"
      ]
     },
     "execution_count": 17,
     "metadata": {},
     "output_type": "execute_result"
    }
   ],
   "source": [
    "my_data_features = my_data[[\"Pclass\", \"Age\", \"Sex\", \"Fare\"]]\n",
    "my_data_features.head()"
   ]
  },
  {
   "cell_type": "code",
   "execution_count": 19,
   "metadata": {},
   "outputs": [
    {
     "data": {
      "text/html": [
       "<div>\n",
       "<style>\n",
       "    .dataframe thead tr:only-child th {\n",
       "        text-align: right;\n",
       "    }\n",
       "\n",
       "    .dataframe thead th {\n",
       "        text-align: left;\n",
       "    }\n",
       "\n",
       "    .dataframe tbody tr th {\n",
       "        vertical-align: top;\n",
       "    }\n",
       "</style>\n",
       "<table border=\"1\" class=\"dataframe\">\n",
       "  <thead>\n",
       "    <tr style=\"text-align: right;\">\n",
       "      <th></th>\n",
       "      <th>Pclass</th>\n",
       "      <th>Age</th>\n",
       "      <th>Sex</th>\n",
       "      <th>Fare</th>\n",
       "    </tr>\n",
       "  </thead>\n",
       "  <tbody>\n",
       "    <tr>\n",
       "      <th>2</th>\n",
       "      <td>1</td>\n",
       "      <td>38.0</td>\n",
       "      <td>0</td>\n",
       "      <td>71.2833</td>\n",
       "    </tr>\n",
       "    <tr>\n",
       "      <th>4</th>\n",
       "      <td>1</td>\n",
       "      <td>35.0</td>\n",
       "      <td>0</td>\n",
       "      <td>53.1000</td>\n",
       "    </tr>\n",
       "    <tr>\n",
       "      <th>7</th>\n",
       "      <td>1</td>\n",
       "      <td>54.0</td>\n",
       "      <td>1</td>\n",
       "      <td>51.8625</td>\n",
       "    </tr>\n",
       "    <tr>\n",
       "      <th>11</th>\n",
       "      <td>3</td>\n",
       "      <td>4.0</td>\n",
       "      <td>0</td>\n",
       "      <td>16.7000</td>\n",
       "    </tr>\n",
       "    <tr>\n",
       "      <th>12</th>\n",
       "      <td>1</td>\n",
       "      <td>58.0</td>\n",
       "      <td>0</td>\n",
       "      <td>26.5500</td>\n",
       "    </tr>\n",
       "  </tbody>\n",
       "</table>\n",
       "</div>"
      ],
      "text/plain": [
       "    Pclass   Age  Sex     Fare\n",
       "2        1  38.0    0  71.2833\n",
       "4        1  35.0    0  53.1000\n",
       "7        1  54.0    1  51.8625\n",
       "11       3   4.0    0  16.7000\n",
       "12       1  58.0    0  26.5500"
      ]
     },
     "execution_count": 19,
     "metadata": {},
     "output_type": "execute_result"
    }
   ],
   "source": [
    "my_data_features = my_data_features.replace(\"female\",0).replace(\"male\",1)\n",
    "my_data_features.head()"
   ]
  },
  {
   "cell_type": "code",
   "execution_count": 68,
   "metadata": {
    "collapsed": true
   },
   "outputs": [],
   "source": [
    "clf = tree.DecisionTreeClassifier(max_depth = 4)"
   ]
  },
  {
   "cell_type": "code",
   "execution_count": 69,
   "metadata": {
    "collapsed": true
   },
   "outputs": [],
   "source": [
    "clf = clf.fit(my_data_features, my_data_labels)"
   ]
  },
  {
   "cell_type": "code",
   "execution_count": 70,
   "metadata": {},
   "outputs": [
    {
     "data": {
      "text/plain": [
       "array([0])"
      ]
     },
     "execution_count": 70,
     "metadata": {},
     "output_type": "execute_result"
    }
   ],
   "source": [
    "clf.predict([[2,90,1,23]])"
   ]
  },
  {
   "cell_type": "code",
   "execution_count": 71,
   "metadata": {},
   "outputs": [
    {
     "data": {
      "text/plain": [
       "'titanic04.pdf'"
      ]
     },
     "execution_count": 71,
     "metadata": {},
     "output_type": "execute_result"
    }
   ],
   "source": [
    "listNames = list(my_data_features)\n",
    "import graphviz\n",
    "dot_data = tree.export_graphviz(clf, out_file=None,\n",
    "                                feature_names=listNames,\n",
    "                                filled=True, \n",
    "                                rounded=True,\n",
    "                                special_characters=True)\n",
    "graph = graphviz.Source(dot_data)\n",
    "graph.render(\"titanic04\") "
   ]
  },
  {
   "cell_type": "code",
   "execution_count": 72,
   "metadata": {
    "collapsed": true
   },
   "outputs": [],
   "source": [
    "rate = []\n",
    "\n",
    "for i in range(3): # Class\n",
    "    for j in range(60): # Age\n",
    "        for k in range(2): # Gender\n",
    "\n",
    "            rate.append(str(i+1) +str(\" : \") + str(j) +str(\" : \")+ str(k)+str(\" : \")+ str( clf.predict([[i+1,j,k, 30]])))"
   ]
  },
  {
   "cell_type": "code",
   "execution_count": 73,
   "metadata": {},
   "outputs": [
    {
     "data": {
      "text/plain": [
       "['1 : 0 : 0 : [0]',\n",
       " '1 : 0 : 1 : [1]',\n",
       " '1 : 1 : 0 : [0]',\n",
       " '1 : 1 : 1 : [1]',\n",
       " '1 : 2 : 0 : [0]',\n",
       " '1 : 2 : 1 : [1]',\n",
       " '1 : 3 : 0 : [0]',\n",
       " '1 : 3 : 1 : [1]',\n",
       " '1 : 4 : 0 : [1]',\n",
       " '1 : 4 : 1 : [1]',\n",
       " '1 : 5 : 0 : [1]',\n",
       " '1 : 5 : 1 : [1]',\n",
       " '1 : 6 : 0 : [1]',\n",
       " '1 : 6 : 1 : [1]',\n",
       " '1 : 7 : 0 : [1]',\n",
       " '1 : 7 : 1 : [1]',\n",
       " '1 : 8 : 0 : [1]',\n",
       " '1 : 8 : 1 : [1]',\n",
       " '1 : 9 : 0 : [1]',\n",
       " '1 : 9 : 1 : [1]',\n",
       " '1 : 10 : 0 : [1]',\n",
       " '1 : 10 : 1 : [1]',\n",
       " '1 : 11 : 0 : [1]',\n",
       " '1 : 11 : 1 : [1]',\n",
       " '1 : 12 : 0 : [1]',\n",
       " '1 : 12 : 1 : [1]',\n",
       " '1 : 13 : 0 : [1]',\n",
       " '1 : 13 : 1 : [1]',\n",
       " '1 : 14 : 0 : [1]',\n",
       " '1 : 14 : 1 : [1]',\n",
       " '1 : 15 : 0 : [1]',\n",
       " '1 : 15 : 1 : [1]',\n",
       " '1 : 16 : 0 : [1]',\n",
       " '1 : 16 : 1 : [1]',\n",
       " '1 : 17 : 0 : [1]',\n",
       " '1 : 17 : 1 : [1]',\n",
       " '1 : 18 : 0 : [1]',\n",
       " '1 : 18 : 1 : [1]',\n",
       " '1 : 19 : 0 : [1]',\n",
       " '1 : 19 : 1 : [1]',\n",
       " '1 : 20 : 0 : [1]',\n",
       " '1 : 20 : 1 : [1]',\n",
       " '1 : 21 : 0 : [1]',\n",
       " '1 : 21 : 1 : [1]',\n",
       " '1 : 22 : 0 : [1]',\n",
       " '1 : 22 : 1 : [1]',\n",
       " '1 : 23 : 0 : [1]',\n",
       " '1 : 23 : 1 : [1]',\n",
       " '1 : 24 : 0 : [1]',\n",
       " '1 : 24 : 1 : [1]',\n",
       " '1 : 25 : 0 : [1]',\n",
       " '1 : 25 : 1 : [1]',\n",
       " '1 : 26 : 0 : [1]',\n",
       " '1 : 26 : 1 : [1]',\n",
       " '1 : 27 : 0 : [1]',\n",
       " '1 : 27 : 1 : [1]',\n",
       " '1 : 28 : 0 : [1]',\n",
       " '1 : 28 : 1 : [1]',\n",
       " '1 : 29 : 0 : [1]',\n",
       " '1 : 29 : 1 : [1]',\n",
       " '1 : 30 : 0 : [1]',\n",
       " '1 : 30 : 1 : [1]',\n",
       " '1 : 31 : 0 : [1]',\n",
       " '1 : 31 : 1 : [1]',\n",
       " '1 : 32 : 0 : [1]',\n",
       " '1 : 32 : 1 : [1]',\n",
       " '1 : 33 : 0 : [1]',\n",
       " '1 : 33 : 1 : [1]',\n",
       " '1 : 34 : 0 : [1]',\n",
       " '1 : 34 : 1 : [1]',\n",
       " '1 : 35 : 0 : [1]',\n",
       " '1 : 35 : 1 : [1]',\n",
       " '1 : 36 : 0 : [1]',\n",
       " '1 : 36 : 1 : [1]',\n",
       " '1 : 37 : 0 : [1]',\n",
       " '1 : 37 : 1 : [1]',\n",
       " '1 : 38 : 0 : [1]',\n",
       " '1 : 38 : 1 : [1]',\n",
       " '1 : 39 : 0 : [1]',\n",
       " '1 : 39 : 1 : [1]',\n",
       " '1 : 40 : 0 : [1]',\n",
       " '1 : 40 : 1 : [1]',\n",
       " '1 : 41 : 0 : [1]',\n",
       " '1 : 41 : 1 : [1]',\n",
       " '1 : 42 : 0 : [1]',\n",
       " '1 : 42 : 1 : [1]',\n",
       " '1 : 43 : 0 : [1]',\n",
       " '1 : 43 : 1 : [1]',\n",
       " '1 : 44 : 0 : [1]',\n",
       " '1 : 44 : 1 : [0]',\n",
       " '1 : 45 : 0 : [1]',\n",
       " '1 : 45 : 1 : [0]',\n",
       " '1 : 46 : 0 : [1]',\n",
       " '1 : 46 : 1 : [0]',\n",
       " '1 : 47 : 0 : [1]',\n",
       " '1 : 47 : 1 : [0]',\n",
       " '1 : 48 : 0 : [1]',\n",
       " '1 : 48 : 1 : [0]',\n",
       " '1 : 49 : 0 : [1]',\n",
       " '1 : 49 : 1 : [0]',\n",
       " '1 : 50 : 0 : [1]',\n",
       " '1 : 50 : 1 : [0]',\n",
       " '1 : 51 : 0 : [1]',\n",
       " '1 : 51 : 1 : [0]',\n",
       " '1 : 52 : 0 : [1]',\n",
       " '1 : 52 : 1 : [0]',\n",
       " '1 : 53 : 0 : [1]',\n",
       " '1 : 53 : 1 : [0]',\n",
       " '1 : 54 : 0 : [1]',\n",
       " '1 : 54 : 1 : [0]',\n",
       " '1 : 55 : 0 : [1]',\n",
       " '1 : 55 : 1 : [0]',\n",
       " '1 : 56 : 0 : [1]',\n",
       " '1 : 56 : 1 : [0]',\n",
       " '1 : 57 : 0 : [1]',\n",
       " '1 : 57 : 1 : [0]',\n",
       " '1 : 58 : 0 : [1]',\n",
       " '1 : 58 : 1 : [0]',\n",
       " '1 : 59 : 0 : [1]',\n",
       " '1 : 59 : 1 : [0]',\n",
       " '2 : 0 : 0 : [0]',\n",
       " '2 : 0 : 1 : [1]',\n",
       " '2 : 1 : 0 : [0]',\n",
       " '2 : 1 : 1 : [1]',\n",
       " '2 : 2 : 0 : [0]',\n",
       " '2 : 2 : 1 : [1]',\n",
       " '2 : 3 : 0 : [0]',\n",
       " '2 : 3 : 1 : [1]',\n",
       " '2 : 4 : 0 : [1]',\n",
       " '2 : 4 : 1 : [1]',\n",
       " '2 : 5 : 0 : [1]',\n",
       " '2 : 5 : 1 : [1]',\n",
       " '2 : 6 : 0 : [1]',\n",
       " '2 : 6 : 1 : [1]',\n",
       " '2 : 7 : 0 : [1]',\n",
       " '2 : 7 : 1 : [1]',\n",
       " '2 : 8 : 0 : [1]',\n",
       " '2 : 8 : 1 : [1]',\n",
       " '2 : 9 : 0 : [1]',\n",
       " '2 : 9 : 1 : [1]',\n",
       " '2 : 10 : 0 : [1]',\n",
       " '2 : 10 : 1 : [1]',\n",
       " '2 : 11 : 0 : [1]',\n",
       " '2 : 11 : 1 : [1]',\n",
       " '2 : 12 : 0 : [1]',\n",
       " '2 : 12 : 1 : [1]',\n",
       " '2 : 13 : 0 : [1]',\n",
       " '2 : 13 : 1 : [1]',\n",
       " '2 : 14 : 0 : [1]',\n",
       " '2 : 14 : 1 : [1]',\n",
       " '2 : 15 : 0 : [1]',\n",
       " '2 : 15 : 1 : [1]',\n",
       " '2 : 16 : 0 : [1]',\n",
       " '2 : 16 : 1 : [1]',\n",
       " '2 : 17 : 0 : [1]',\n",
       " '2 : 17 : 1 : [1]',\n",
       " '2 : 18 : 0 : [1]',\n",
       " '2 : 18 : 1 : [1]',\n",
       " '2 : 19 : 0 : [1]',\n",
       " '2 : 19 : 1 : [1]',\n",
       " '2 : 20 : 0 : [1]',\n",
       " '2 : 20 : 1 : [1]',\n",
       " '2 : 21 : 0 : [1]',\n",
       " '2 : 21 : 1 : [1]',\n",
       " '2 : 22 : 0 : [1]',\n",
       " '2 : 22 : 1 : [1]',\n",
       " '2 : 23 : 0 : [1]',\n",
       " '2 : 23 : 1 : [1]',\n",
       " '2 : 24 : 0 : [1]',\n",
       " '2 : 24 : 1 : [1]',\n",
       " '2 : 25 : 0 : [1]',\n",
       " '2 : 25 : 1 : [1]',\n",
       " '2 : 26 : 0 : [1]',\n",
       " '2 : 26 : 1 : [1]',\n",
       " '2 : 27 : 0 : [1]',\n",
       " '2 : 27 : 1 : [1]',\n",
       " '2 : 28 : 0 : [1]',\n",
       " '2 : 28 : 1 : [1]',\n",
       " '2 : 29 : 0 : [1]',\n",
       " '2 : 29 : 1 : [1]',\n",
       " '2 : 30 : 0 : [1]',\n",
       " '2 : 30 : 1 : [1]',\n",
       " '2 : 31 : 0 : [1]',\n",
       " '2 : 31 : 1 : [1]',\n",
       " '2 : 32 : 0 : [1]',\n",
       " '2 : 32 : 1 : [1]',\n",
       " '2 : 33 : 0 : [1]',\n",
       " '2 : 33 : 1 : [1]',\n",
       " '2 : 34 : 0 : [1]',\n",
       " '2 : 34 : 1 : [1]',\n",
       " '2 : 35 : 0 : [1]',\n",
       " '2 : 35 : 1 : [1]',\n",
       " '2 : 36 : 0 : [1]',\n",
       " '2 : 36 : 1 : [1]',\n",
       " '2 : 37 : 0 : [1]',\n",
       " '2 : 37 : 1 : [1]',\n",
       " '2 : 38 : 0 : [1]',\n",
       " '2 : 38 : 1 : [1]',\n",
       " '2 : 39 : 0 : [1]',\n",
       " '2 : 39 : 1 : [1]',\n",
       " '2 : 40 : 0 : [1]',\n",
       " '2 : 40 : 1 : [1]',\n",
       " '2 : 41 : 0 : [1]',\n",
       " '2 : 41 : 1 : [1]',\n",
       " '2 : 42 : 0 : [1]',\n",
       " '2 : 42 : 1 : [1]',\n",
       " '2 : 43 : 0 : [1]',\n",
       " '2 : 43 : 1 : [1]',\n",
       " '2 : 44 : 0 : [1]',\n",
       " '2 : 44 : 1 : [0]',\n",
       " '2 : 45 : 0 : [1]',\n",
       " '2 : 45 : 1 : [0]',\n",
       " '2 : 46 : 0 : [1]',\n",
       " '2 : 46 : 1 : [0]',\n",
       " '2 : 47 : 0 : [1]',\n",
       " '2 : 47 : 1 : [0]',\n",
       " '2 : 48 : 0 : [1]',\n",
       " '2 : 48 : 1 : [0]',\n",
       " '2 : 49 : 0 : [1]',\n",
       " '2 : 49 : 1 : [0]',\n",
       " '2 : 50 : 0 : [1]',\n",
       " '2 : 50 : 1 : [0]',\n",
       " '2 : 51 : 0 : [1]',\n",
       " '2 : 51 : 1 : [0]',\n",
       " '2 : 52 : 0 : [1]',\n",
       " '2 : 52 : 1 : [0]',\n",
       " '2 : 53 : 0 : [1]',\n",
       " '2 : 53 : 1 : [0]',\n",
       " '2 : 54 : 0 : [1]',\n",
       " '2 : 54 : 1 : [0]',\n",
       " '2 : 55 : 0 : [1]',\n",
       " '2 : 55 : 1 : [0]',\n",
       " '2 : 56 : 0 : [1]',\n",
       " '2 : 56 : 1 : [0]',\n",
       " '2 : 57 : 0 : [1]',\n",
       " '2 : 57 : 1 : [0]',\n",
       " '2 : 58 : 0 : [1]',\n",
       " '2 : 58 : 1 : [0]',\n",
       " '2 : 59 : 0 : [1]',\n",
       " '2 : 59 : 1 : [0]',\n",
       " '3 : 0 : 0 : [0]',\n",
       " '3 : 0 : 1 : [1]',\n",
       " '3 : 1 : 0 : [0]',\n",
       " '3 : 1 : 1 : [1]',\n",
       " '3 : 2 : 0 : [0]',\n",
       " '3 : 2 : 1 : [1]',\n",
       " '3 : 3 : 0 : [0]',\n",
       " '3 : 3 : 1 : [1]',\n",
       " '3 : 4 : 0 : [1]',\n",
       " '3 : 4 : 1 : [1]',\n",
       " '3 : 5 : 0 : [1]',\n",
       " '3 : 5 : 1 : [1]',\n",
       " '3 : 6 : 0 : [1]',\n",
       " '3 : 6 : 1 : [1]',\n",
       " '3 : 7 : 0 : [1]',\n",
       " '3 : 7 : 1 : [1]',\n",
       " '3 : 8 : 0 : [1]',\n",
       " '3 : 8 : 1 : [1]',\n",
       " '3 : 9 : 0 : [1]',\n",
       " '3 : 9 : 1 : [1]',\n",
       " '3 : 10 : 0 : [1]',\n",
       " '3 : 10 : 1 : [1]',\n",
       " '3 : 11 : 0 : [1]',\n",
       " '3 : 11 : 1 : [1]',\n",
       " '3 : 12 : 0 : [1]',\n",
       " '3 : 12 : 1 : [1]',\n",
       " '3 : 13 : 0 : [1]',\n",
       " '3 : 13 : 1 : [1]',\n",
       " '3 : 14 : 0 : [1]',\n",
       " '3 : 14 : 1 : [1]',\n",
       " '3 : 15 : 0 : [1]',\n",
       " '3 : 15 : 1 : [1]',\n",
       " '3 : 16 : 0 : [1]',\n",
       " '3 : 16 : 1 : [1]',\n",
       " '3 : 17 : 0 : [1]',\n",
       " '3 : 17 : 1 : [1]',\n",
       " '3 : 18 : 0 : [1]',\n",
       " '3 : 18 : 1 : [1]',\n",
       " '3 : 19 : 0 : [1]',\n",
       " '3 : 19 : 1 : [1]',\n",
       " '3 : 20 : 0 : [1]',\n",
       " '3 : 20 : 1 : [1]',\n",
       " '3 : 21 : 0 : [1]',\n",
       " '3 : 21 : 1 : [1]',\n",
       " '3 : 22 : 0 : [1]',\n",
       " '3 : 22 : 1 : [1]',\n",
       " '3 : 23 : 0 : [1]',\n",
       " '3 : 23 : 1 : [1]',\n",
       " '3 : 24 : 0 : [1]',\n",
       " '3 : 24 : 1 : [1]',\n",
       " '3 : 25 : 0 : [1]',\n",
       " '3 : 25 : 1 : [1]',\n",
       " '3 : 26 : 0 : [1]',\n",
       " '3 : 26 : 1 : [1]',\n",
       " '3 : 27 : 0 : [1]',\n",
       " '3 : 27 : 1 : [1]',\n",
       " '3 : 28 : 0 : [1]',\n",
       " '3 : 28 : 1 : [1]',\n",
       " '3 : 29 : 0 : [1]',\n",
       " '3 : 29 : 1 : [1]',\n",
       " '3 : 30 : 0 : [1]',\n",
       " '3 : 30 : 1 : [1]',\n",
       " '3 : 31 : 0 : [1]',\n",
       " '3 : 31 : 1 : [1]',\n",
       " '3 : 32 : 0 : [1]',\n",
       " '3 : 32 : 1 : [1]',\n",
       " '3 : 33 : 0 : [1]',\n",
       " '3 : 33 : 1 : [1]',\n",
       " '3 : 34 : 0 : [1]',\n",
       " '3 : 34 : 1 : [1]',\n",
       " '3 : 35 : 0 : [1]',\n",
       " '3 : 35 : 1 : [1]',\n",
       " '3 : 36 : 0 : [1]',\n",
       " '3 : 36 : 1 : [1]',\n",
       " '3 : 37 : 0 : [1]',\n",
       " '3 : 37 : 1 : [1]',\n",
       " '3 : 38 : 0 : [1]',\n",
       " '3 : 38 : 1 : [1]',\n",
       " '3 : 39 : 0 : [1]',\n",
       " '3 : 39 : 1 : [1]',\n",
       " '3 : 40 : 0 : [1]',\n",
       " '3 : 40 : 1 : [1]',\n",
       " '3 : 41 : 0 : [1]',\n",
       " '3 : 41 : 1 : [1]',\n",
       " '3 : 42 : 0 : [1]',\n",
       " '3 : 42 : 1 : [1]',\n",
       " '3 : 43 : 0 : [1]',\n",
       " '3 : 43 : 1 : [1]',\n",
       " '3 : 44 : 0 : [1]',\n",
       " '3 : 44 : 1 : [0]',\n",
       " '3 : 45 : 0 : [1]',\n",
       " '3 : 45 : 1 : [0]',\n",
       " '3 : 46 : 0 : [1]',\n",
       " '3 : 46 : 1 : [0]',\n",
       " '3 : 47 : 0 : [1]',\n",
       " '3 : 47 : 1 : [0]',\n",
       " '3 : 48 : 0 : [1]',\n",
       " '3 : 48 : 1 : [0]',\n",
       " '3 : 49 : 0 : [1]',\n",
       " '3 : 49 : 1 : [0]',\n",
       " '3 : 50 : 0 : [1]',\n",
       " '3 : 50 : 1 : [0]',\n",
       " '3 : 51 : 0 : [1]',\n",
       " '3 : 51 : 1 : [0]',\n",
       " '3 : 52 : 0 : [1]',\n",
       " '3 : 52 : 1 : [0]',\n",
       " '3 : 53 : 0 : [1]',\n",
       " '3 : 53 : 1 : [0]',\n",
       " '3 : 54 : 0 : [1]',\n",
       " '3 : 54 : 1 : [0]',\n",
       " '3 : 55 : 0 : [1]',\n",
       " '3 : 55 : 1 : [0]',\n",
       " '3 : 56 : 0 : [1]',\n",
       " '3 : 56 : 1 : [0]',\n",
       " '3 : 57 : 0 : [1]',\n",
       " '3 : 57 : 1 : [0]',\n",
       " '3 : 58 : 0 : [1]',\n",
       " '3 : 58 : 1 : [0]',\n",
       " '3 : 59 : 0 : [1]',\n",
       " '3 : 59 : 1 : [0]']"
      ]
     },
     "execution_count": 73,
     "metadata": {},
     "output_type": "execute_result"
    }
   ],
   "source": [
    "rate"
   ]
  },
  {
   "cell_type": "code",
   "execution_count": 74,
   "metadata": {
    "collapsed": true
   },
   "outputs": [],
   "source": [
    "test_data = pd.read_csv('test.csv', delimiter=',')"
   ]
  },
  {
   "cell_type": "code",
   "execution_count": 75,
   "metadata": {
    "collapsed": true
   },
   "outputs": [],
   "source": [
    "#test_data = test_data.replace(\"male\",1).replace(\"female\",0).replace(\"nan\",25).fillna(25)\n",
    "test_data = test_data.replace(\"male\",1).replace(\"female\",0).replace(\"nan\",my_data[\"Age\"].mean()).fillna(my_data[\"Age\"].mean())"
   ]
  },
  {
   "cell_type": "code",
   "execution_count": 76,
   "metadata": {},
   "outputs": [
    {
     "data": {
      "text/plain": [
       "PassengerId                                 893\n",
       "Pclass                                        3\n",
       "Name           Wilkes, Mrs. James (Ellen Needs)\n",
       "Sex                                           0\n",
       "Age                                          47\n",
       "SibSp                                         1\n",
       "Parch                                         0\n",
       "Ticket                                   363272\n",
       "Fare                                          7\n",
       "Cabin                                   35.6744\n",
       "Embarked                                      S\n",
       "Name: 1, dtype: object"
      ]
     },
     "execution_count": 76,
     "metadata": {},
     "output_type": "execute_result"
    }
   ],
   "source": [
    "test_data.loc[1]"
   ]
  },
  {
   "cell_type": "code",
   "execution_count": 77,
   "metadata": {},
   "outputs": [
    {
     "name": "stdout",
     "output_type": "stream",
     "text": [
      "892 [0]\n",
      "893 [0]\n",
      "894 [0]\n",
      "895 [1]\n",
      "896 [1]\n",
      "897 [1]\n",
      "898 [0]\n",
      "899 [1]\n",
      "900 [0]\n",
      "901 [1]\n",
      "902 [1]\n",
      "903 [0]\n",
      "904 [1]\n",
      "905 [0]\n",
      "906 [1]\n",
      "907 [1]\n",
      "908 [1]\n",
      "909 [0]\n",
      "910 [0]\n",
      "911 [0]\n",
      "912 [0]\n",
      "913 [1]\n",
      "914 [1]\n",
      "915 [1]\n",
      "916 [1]\n",
      "917 [0]\n",
      "918 [1]\n",
      "919 [0]\n",
      "920 [1]\n",
      "921 [1]\n",
      "922 [0]\n",
      "923 [1]\n",
      "924 [1]\n",
      "925 [1]\n",
      "926 [1]\n",
      "927 [0]\n",
      "928 [0]\n",
      "929 [0]\n",
      "930 [1]\n",
      "931 [1]\n",
      "932 [1]\n",
      "933 [1]\n",
      "934 [0]\n",
      "935 [1]\n",
      "936 [1]\n",
      "937 [1]\n",
      "938 [0]\n",
      "939 [0]\n",
      "940 [1]\n",
      "941 [1]\n",
      "942 [1]\n",
      "943 [1]\n",
      "944 [1]\n",
      "945 [1]\n",
      "946 [1]\n",
      "947 [1]\n",
      "948 [1]\n",
      "949 [0]\n",
      "950 [1]\n",
      "951 [1]\n",
      "952 [1]\n",
      "953 [1]\n",
      "954 [0]\n",
      "955 [0]\n",
      "956 [1]\n",
      "957 [1]\n",
      "958 [0]\n",
      "959 [0]\n",
      "960 [1]\n",
      "961 [1]\n",
      "962 [0]\n",
      "963 [1]\n",
      "964 [0]\n",
      "965 [1]\n",
      "966 [1]\n",
      "967 [1]\n",
      "968 [1]\n",
      "969 [1]\n",
      "970 [1]\n",
      "971 [0]\n",
      "972 [1]\n",
      "973 [0]\n",
      "974 [0]\n",
      "975 [1]\n",
      "976 [1]\n",
      "977 [1]\n",
      "978 [0]\n",
      "979 [0]\n",
      "980 [0]\n",
      "981 [1]\n",
      "982 [1]\n",
      "983 [0]\n",
      "984 [1]\n",
      "985 [1]\n",
      "986 [1]\n",
      "987 [0]\n",
      "988 [1]\n",
      "989 [1]\n",
      "990 [0]\n",
      "991 [1]\n",
      "992 [1]\n",
      "993 [1]\n",
      "994 [0]\n",
      "995 [0]\n",
      "996 [0]\n",
      "997 [1]\n",
      "998 [0]\n",
      "999 [0]\n",
      "1000 [1]\n",
      "1001 [1]\n",
      "1002 [1]\n",
      "1003 [0]\n",
      "1004 [1]\n",
      "1005 [0]\n",
      "1006 [1]\n",
      "1007 [1]\n",
      "1008 [0]\n",
      "1009 [0]\n",
      "1010 [1]\n",
      "1011 [1]\n",
      "1012 [1]\n",
      "1013 [0]\n",
      "1014 [1]\n",
      "1015 [0]\n",
      "1016 [0]\n",
      "1017 [1]\n",
      "1018 [0]\n",
      "1019 [1]\n",
      "1020 [1]\n",
      "1021 [1]\n",
      "1022 [1]\n",
      "1023 [0]\n",
      "1024 [1]\n",
      "1025 [0]\n",
      "1026 [1]\n",
      "1027 [1]\n",
      "1028 [0]\n",
      "1029 [1]\n",
      "1030 [0]\n",
      "1031 [1]\n",
      "1032 [1]\n",
      "1033 [1]\n",
      "1034 [0]\n",
      "1035 [1]\n",
      "1036 [1]\n",
      "1037 [1]\n",
      "1038 [1]\n",
      "1039 [1]\n",
      "1040 [1]\n",
      "1041 [1]\n",
      "1042 [1]\n",
      "1043 [1]\n",
      "1044 [0]\n",
      "1045 [1]\n",
      "1046 [1]\n",
      "1047 [0]\n",
      "1048 [1]\n",
      "1049 [0]\n",
      "1050 [1]\n",
      "1051 [1]\n",
      "1052 [0]\n",
      "1053 [1]\n",
      "1054 [1]\n",
      "1055 [0]\n",
      "1056 [1]\n",
      "1057 [1]\n",
      "1058 [0]\n",
      "1059 [1]\n",
      "1060 [1]\n",
      "1061 [0]\n",
      "1062 [0]\n",
      "1063 [0]\n",
      "1064 [1]\n",
      "1065 [0]\n",
      "1066 [1]\n",
      "1067 [1]\n",
      "1068 [1]\n",
      "1069 [0]\n",
      "1070 [1]\n",
      "1071 [1]\n",
      "1072 [1]\n",
      "1073 [1]\n",
      "1074 [1]\n",
      "1075 [0]\n",
      "1076 [1]\n",
      "1077 [1]\n",
      "1078 [1]\n",
      "1079 [1]\n",
      "1080 [1]\n",
      "1081 [1]\n",
      "1082 [1]\n",
      "1083 [1]\n",
      "1084 [1]\n",
      "1085 [0]\n",
      "1086 [1]\n",
      "1087 [1]\n",
      "1088 [1]\n",
      "1089 [0]\n",
      "1090 [1]\n",
      "1091 [0]\n",
      "1092 [1]\n",
      "1093 [1]\n",
      "1094 [0]\n",
      "1095 [1]\n",
      "1096 [1]\n",
      "1097 [1]\n",
      "1098 [0]\n",
      "1099 [1]\n",
      "1100 [1]\n",
      "1101 [1]\n",
      "1102 [1]\n",
      "1103 [0]\n",
      "1104 [1]\n",
      "1105 [1]\n",
      "1106 [0]\n",
      "1107 [1]\n",
      "1108 [0]\n",
      "1109 [0]\n",
      "1110 [1]\n",
      "1111 [1]\n",
      "1112 [1]\n",
      "1113 [1]\n",
      "1114 [1]\n",
      "1115 [0]\n",
      "1116 [1]\n",
      "1117 [1]\n",
      "1118 [0]\n",
      "1119 [0]\n",
      "1120 [1]\n",
      "1121 [1]\n",
      "1122 [1]\n",
      "1123 [1]\n",
      "1124 [0]\n",
      "1125 [1]\n",
      "1126 [1]\n",
      "1127 [1]\n",
      "1128 [0]\n",
      "1129 [0]\n",
      "1130 [1]\n",
      "1131 [1]\n",
      "1132 [1]\n",
      "1133 [1]\n",
      "1134 [0]\n",
      "1135 [1]\n",
      "1136 [1]\n",
      "1137 [1]\n",
      "1138 [1]\n",
      "1139 [1]\n",
      "1140 [1]\n",
      "1141 [1]\n",
      "1142 [0]\n",
      "1143 [1]\n",
      "1144 [1]\n",
      "1145 [1]\n",
      "1146 [1]\n",
      "1147 [0]\n",
      "1148 [0]\n",
      "1149 [1]\n",
      "1150 [1]\n",
      "1151 [0]\n",
      "1152 [1]\n",
      "1153 [1]\n",
      "1154 [1]\n",
      "1155 [0]\n",
      "1156 [1]\n",
      "1157 [1]\n",
      "1158 [0]\n",
      "1159 [0]\n",
      "1160 [0]\n",
      "1161 [1]\n",
      "1162 [0]\n",
      "1163 [0]\n",
      "1164 [1]\n",
      "1165 [1]\n",
      "1166 [0]\n",
      "1167 [1]\n",
      "1168 [1]\n",
      "1169 [1]\n",
      "1170 [1]\n",
      "1171 [1]\n",
      "1172 [0]\n",
      "1173 [1]\n",
      "1174 [0]\n",
      "1175 [1]\n",
      "1176 [0]\n",
      "1177 [0]\n",
      "1178 [0]\n",
      "1179 [1]\n",
      "1180 [0]\n",
      "1181 [1]\n",
      "1182 [1]\n",
      "1183 [0]\n",
      "1184 [0]\n",
      "1185 [0]\n",
      "1186 [1]\n",
      "1187 [1]\n",
      "1188 [0]\n",
      "1189 [1]\n",
      "1190 [1]\n",
      "1191 [1]\n",
      "1192 [0]\n",
      "1193 [1]\n",
      "1194 [1]\n",
      "1195 [1]\n",
      "1196 [0]\n",
      "1197 [1]\n",
      "1198 [1]\n",
      "1199 [1]\n",
      "1200 [0]\n",
      "1201 [1]\n",
      "1202 [1]\n",
      "1203 [0]\n",
      "1204 [0]\n",
      "1205 [0]\n",
      "1206 [1]\n",
      "1207 [0]\n",
      "1208 [0]\n",
      "1209 [1]\n",
      "1210 [1]\n",
      "1211 [1]\n",
      "1212 [0]\n",
      "1213 [0]\n",
      "1214 [1]\n",
      "1215 [1]\n",
      "1216 [1]\n",
      "1217 [0]\n",
      "1218 [1]\n",
      "1219 [0]\n",
      "1220 [1]\n",
      "1221 [1]\n",
      "1222 [1]\n",
      "1223 [1]\n",
      "1224 [0]\n",
      "1225 [1]\n",
      "1226 [1]\n",
      "1227 [1]\n",
      "1228 [1]\n",
      "1229 [0]\n",
      "1230 [1]\n",
      "1231 [0]\n",
      "1232 [1]\n",
      "1233 [0]\n",
      "1234 [1]\n",
      "1235 [1]\n",
      "1236 [1]\n",
      "1237 [0]\n",
      "1238 [1]\n",
      "1239 [0]\n",
      "1240 [1]\n",
      "1241 [1]\n",
      "1242 [1]\n",
      "1243 [1]\n",
      "1244 [1]\n",
      "1245 [0]\n",
      "1246 [0]\n",
      "1247 [0]\n",
      "1248 [1]\n",
      "1249 [1]\n",
      "1250 [0]\n",
      "1251 [1]\n",
      "1252 [1]\n",
      "1253 [1]\n",
      "1254 [1]\n",
      "1255 [1]\n",
      "1256 [1]\n",
      "1257 [1]\n",
      "1258 [1]\n",
      "1259 [1]\n",
      "1260 [1]\n",
      "1261 [1]\n",
      "1262 [1]\n",
      "1263 [1]\n",
      "1264 [0]\n",
      "1265 [0]\n",
      "1266 [1]\n",
      "1267 [1]\n",
      "1268 [0]\n",
      "1269 [1]\n",
      "1270 [0]\n",
      "1271 [1]\n",
      "1272 [0]\n",
      "1273 [1]\n",
      "1274 [1]\n",
      "1275 [1]\n",
      "1276 [1]\n",
      "1277 [1]\n",
      "1278 [0]\n",
      "1279 [0]\n",
      "1280 [0]\n",
      "1281 [1]\n",
      "1282 [1]\n",
      "1283 [1]\n",
      "1284 [1]\n",
      "1285 [0]\n",
      "1286 [1]\n",
      "1287 [1]\n",
      "1288 [0]\n",
      "1289 [1]\n",
      "1290 [0]\n",
      "1291 [0]\n",
      "1292 [1]\n",
      "1293 [1]\n",
      "1294 [1]\n",
      "1295 [1]\n",
      "1296 [1]\n",
      "1297 [1]\n",
      "1298 [1]\n",
      "1299 [0]\n",
      "1300 [0]\n",
      "1301 [0]\n",
      "1302 [0]\n",
      "1303 [1]\n",
      "1304 [0]\n",
      "1305 [1]\n",
      "1306 [1]\n",
      "1307 [0]\n",
      "1308 [1]\n",
      "1309 [1]\n"
     ]
    }
   ],
   "source": [
    "for i in range(0,test_data.shape[0]):\n",
    "    #print(test_data.loc[i].PassengerId, test_data.loc[i].Pclass, test_data.loc[i].Age, test_data.loc[i].Sex,)\n",
    "    print(test_data.loc[i].PassengerId, clf.predict([[test_data.loc[i].Pclass, test_data.loc[i].Age, test_data.loc[i].Sex, test_data.loc[i].Fare]]) )"
   ]
  },
  {
   "cell_type": "code",
   "execution_count": 26,
   "metadata": {},
   "outputs": [
    {
     "data": {
      "image/svg+xml": [],
      "text/plain": [
       "<graphviz.files.Source at 0x1a17ecff28>"
      ]
     },
     "execution_count": 26,
     "metadata": {},
     "output_type": "execute_result"
    }
   ],
   "source": [
    "graph"
   ]
  },
  {
   "cell_type": "code",
   "execution_count": null,
   "metadata": {
    "collapsed": true
   },
   "outputs": [],
   "source": []
  }
 ],
 "metadata": {
  "kernelspec": {
   "display_name": "Python 3",
   "language": "python",
   "name": "python3"
  },
  "language_info": {
   "codemirror_mode": {
    "name": "ipython",
    "version": 3
   },
   "file_extension": ".py",
   "mimetype": "text/x-python",
   "name": "python",
   "nbconvert_exporter": "python",
   "pygments_lexer": "ipython3",
   "version": "3.6.3"
  }
 },
 "nbformat": 4,
 "nbformat_minor": 2
}
